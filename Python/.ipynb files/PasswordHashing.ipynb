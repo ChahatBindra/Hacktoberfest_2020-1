{
 "cells": [
  {
   "cell_type": "code",
   "execution_count": 2,
   "metadata": {},
   "outputs": [
    {
     "name": "stdout",
     "output_type": "stream",
     "text": [
      "Please enter a password: kartikay\n",
      "The string to store in the db is: 7dcbd1ca49d972855e4fd382388b07b6692beb1c12098ecb29b8a3a5c25a9755:10eb4d260ac64b76a681e5fe500e3630\n",
      "Now please enter the password again to check: kartikay\n",
      "You entered the right password\n"
     ]
    }
   ],
   "source": [
    "import uuid\n",
    "import hashlib\n",
    " \n",
    "def hash_password(password):\n",
    "    # uuid is used to generate a random number\n",
    "    salt = uuid.uuid4().hex\n",
    "    return hashlib.sha256(salt.encode() + password.encode()).hexdigest() + ':' + salt\n",
    "    \n",
    "def check_password(hashed_password, user_password):\n",
    "    password, salt = hashed_password.split(':')\n",
    "    return password == hashlib.sha256(salt.encode() + user_password.encode()).hexdigest()\n",
    " \n",
    "new_pass = input('Please enter a password: ')\n",
    "hashed_password = hash_password(new_pass)\n",
    "print('The string to store in the db is: ' + hashed_password)\n",
    "old_pass = input('Now please enter the password again to check: ')\n",
    "if check_password(hashed_password, old_pass):\n",
    "    print('You entered the right password')\n",
    "else:\n",
    "    print('I am sorry but the password does not match')"
   ]
  },
  {
   "cell_type": "code",
   "execution_count": null,
   "metadata": {},
   "outputs": [],
   "source": []
  }
 ],
 "metadata": {
  "kernelspec": {
   "display_name": "Python 3",
   "language": "python",
   "name": "python3"
  },
  "language_info": {
   "codemirror_mode": {
    "name": "ipython",
    "version": 3
   },
   "file_extension": ".py",
   "mimetype": "text/x-python",
   "name": "python",
   "nbconvert_exporter": "python",
   "pygments_lexer": "ipython3",
   "version": "3.6.9"
  }
 },
 "nbformat": 4,
 "nbformat_minor": 2
}
